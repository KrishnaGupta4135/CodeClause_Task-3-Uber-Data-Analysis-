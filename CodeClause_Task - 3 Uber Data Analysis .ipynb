{
 "cells": [
  {
   "cell_type": "markdown",
   "id": "b88ef66b",
   "metadata": {},
   "source": [
    "# CodeClause_Task - 3 Uber Data Analysis "
   ]
  },
  {
   "cell_type": "markdown",
   "id": "a4657815",
   "metadata": {},
   "source": [
    "### Import Libraries\n"
   ]
  },
  {
   "cell_type": "code",
   "execution_count": 1,
   "id": "3df7435c",
   "metadata": {},
   "outputs": [],
   "source": [
    "import numpy as np\n",
    "import pandas as pd\n",
    "import matplotlib.pyplot as plt\n",
    "import seaborn as sns"
   ]
  },
  {
   "cell_type": "code",
   "execution_count": 2,
   "id": "eda075e8",
   "metadata": {},
   "outputs": [],
   "source": [
    "#load the dataset\n",
    "df = pd.read_csv(r\"C:\\Users\\welcome\\Downloads\\Uber Driver Analysis with python\\Uber Drives - .csv\")"
   ]
  },
  {
   "cell_type": "code",
   "execution_count": 3,
   "id": "e38969e9",
   "metadata": {},
   "outputs": [
    {
     "data": {
      "text/html": [
       "<div>\n",
       "<style scoped>\n",
       "    .dataframe tbody tr th:only-of-type {\n",
       "        vertical-align: middle;\n",
       "    }\n",
       "\n",
       "    .dataframe tbody tr th {\n",
       "        vertical-align: top;\n",
       "    }\n",
       "\n",
       "    .dataframe thead th {\n",
       "        text-align: right;\n",
       "    }\n",
       "</style>\n",
       "<table border=\"1\" class=\"dataframe\">\n",
       "  <thead>\n",
       "    <tr style=\"text-align: right;\">\n",
       "      <th></th>\n",
       "      <th>START_DATE*</th>\n",
       "      <th>END_DATE*</th>\n",
       "      <th>CATEGORY*</th>\n",
       "      <th>START*</th>\n",
       "      <th>STOP*</th>\n",
       "      <th>MILES*</th>\n",
       "      <th>PURPOSE*</th>\n",
       "    </tr>\n",
       "  </thead>\n",
       "  <tbody>\n",
       "    <tr>\n",
       "      <th>0</th>\n",
       "      <td>1/1/2016 21:11</td>\n",
       "      <td>1/1/2016 21:17</td>\n",
       "      <td>Business</td>\n",
       "      <td>Fort Pierce</td>\n",
       "      <td>Fort Pierce</td>\n",
       "      <td>5.1</td>\n",
       "      <td>Meal/Entertain</td>\n",
       "    </tr>\n",
       "    <tr>\n",
       "      <th>1</th>\n",
       "      <td>1/2/2016 1:25</td>\n",
       "      <td>1/2/2016 1:37</td>\n",
       "      <td>Business</td>\n",
       "      <td>Fort Pierce</td>\n",
       "      <td>Fort Pierce</td>\n",
       "      <td>5.0</td>\n",
       "      <td>NaN</td>\n",
       "    </tr>\n",
       "    <tr>\n",
       "      <th>2</th>\n",
       "      <td>1/2/2016 20:25</td>\n",
       "      <td>1/2/2016 20:38</td>\n",
       "      <td>Business</td>\n",
       "      <td>Fort Pierce</td>\n",
       "      <td>Fort Pierce</td>\n",
       "      <td>4.8</td>\n",
       "      <td>Errand/Supplies</td>\n",
       "    </tr>\n",
       "    <tr>\n",
       "      <th>3</th>\n",
       "      <td>1/5/2016 17:31</td>\n",
       "      <td>1/5/2016 17:45</td>\n",
       "      <td>Business</td>\n",
       "      <td>Fort Pierce</td>\n",
       "      <td>Fort Pierce</td>\n",
       "      <td>4.7</td>\n",
       "      <td>Meeting</td>\n",
       "    </tr>\n",
       "    <tr>\n",
       "      <th>4</th>\n",
       "      <td>1/6/2016 14:42</td>\n",
       "      <td>1/6/2016 15:49</td>\n",
       "      <td>Business</td>\n",
       "      <td>Fort Pierce</td>\n",
       "      <td>West Palm Beach</td>\n",
       "      <td>63.7</td>\n",
       "      <td>Customer Visit</td>\n",
       "    </tr>\n",
       "  </tbody>\n",
       "</table>\n",
       "</div>"
      ],
      "text/plain": [
       "      START_DATE*       END_DATE* CATEGORY*       START*            STOP*  \\\n",
       "0  1/1/2016 21:11  1/1/2016 21:17  Business  Fort Pierce      Fort Pierce   \n",
       "1   1/2/2016 1:25   1/2/2016 1:37  Business  Fort Pierce      Fort Pierce   \n",
       "2  1/2/2016 20:25  1/2/2016 20:38  Business  Fort Pierce      Fort Pierce   \n",
       "3  1/5/2016 17:31  1/5/2016 17:45  Business  Fort Pierce      Fort Pierce   \n",
       "4  1/6/2016 14:42  1/6/2016 15:49  Business  Fort Pierce  West Palm Beach   \n",
       "\n",
       "   MILES*         PURPOSE*  \n",
       "0     5.1   Meal/Entertain  \n",
       "1     5.0              NaN  \n",
       "2     4.8  Errand/Supplies  \n",
       "3     4.7          Meeting  \n",
       "4    63.7   Customer Visit  "
      ]
     },
     "execution_count": 3,
     "metadata": {},
     "output_type": "execute_result"
    }
   ],
   "source": [
    "df.head()"
   ]
  },
  {
   "cell_type": "code",
   "execution_count": 4,
   "id": "e691eca1",
   "metadata": {},
   "outputs": [
    {
     "data": {
      "text/plain": [
       "(1156, 7)"
      ]
     },
     "execution_count": 4,
     "metadata": {},
     "output_type": "execute_result"
    }
   ],
   "source": [
    "#check size of the dataset\n",
    "df.shape"
   ]
  },
  {
   "cell_type": "code",
   "execution_count": 5,
   "id": "7daec87b",
   "metadata": {},
   "outputs": [
    {
     "name": "stdout",
     "output_type": "stream",
     "text": [
      "<class 'pandas.core.frame.DataFrame'>\n",
      "RangeIndex: 1156 entries, 0 to 1155\n",
      "Data columns (total 7 columns):\n",
      " #   Column       Non-Null Count  Dtype  \n",
      "---  ------       --------------  -----  \n",
      " 0   START_DATE*  1156 non-null   object \n",
      " 1   END_DATE*    1155 non-null   object \n",
      " 2   CATEGORY*    1155 non-null   object \n",
      " 3   START*       1155 non-null   object \n",
      " 4   STOP*        1155 non-null   object \n",
      " 5   MILES*       1156 non-null   float64\n",
      " 6   PURPOSE*     653 non-null    object \n",
      "dtypes: float64(1), object(6)\n",
      "memory usage: 63.3+ KB\n"
     ]
    }
   ],
   "source": [
    "# Let's explore variables, their data types, and total non-null values\n",
    "df.info()"
   ]
  },
  {
   "cell_type": "code",
   "execution_count": 8,
   "id": "57572e11",
   "metadata": {},
   "outputs": [
    {
     "data": {
      "text/plain": [
       "Index(['START_DATE*', 'END_DATE*', 'CATEGORY*', 'START*', 'STOP*', 'MILES*',\n",
       "       'PURPOSE*'],\n",
       "      dtype='object')"
      ]
     },
     "execution_count": 8,
     "metadata": {},
     "output_type": "execute_result"
    }
   ],
   "source": [
    "df.columns"
   ]
  },
  {
   "cell_type": "code",
   "execution_count": 9,
   "id": "89eed71b",
   "metadata": {},
   "outputs": [],
   "source": [
    "df.columns=['START_DATE','END_DATE','CATEGORY','START','STOP','MILES','PURPOSE']"
   ]
  },
  {
   "cell_type": "markdown",
   "id": "09920258",
   "metadata": {},
   "source": [
    "# Data Cleaning"
   ]
  },
  {
   "cell_type": "code",
   "execution_count": null,
   "id": "cdaf589f",
   "metadata": {},
   "outputs": [],
   "source": []
  },
  {
   "cell_type": "markdown",
   "id": "2df5e8b3",
   "metadata": {},
   "source": [
    "## Check for Mising Values\n",
    "\n",
    "If a data is not available, Python uses **NaN** to represnet it.\n",
    "\n",
    "Let's check below if there data points missing in our dataset."
   ]
  },
  {
   "cell_type": "code",
   "execution_count": 10,
   "id": "cbe67a99",
   "metadata": {},
   "outputs": [
    {
     "data": {
      "text/plain": [
       "START_DATE      0\n",
       "END_DATE        1\n",
       "CATEGORY        1\n",
       "START           1\n",
       "STOP            1\n",
       "MILES           0\n",
       "PURPOSE       503\n",
       "dtype: int64"
      ]
     },
     "execution_count": 10,
     "metadata": {},
     "output_type": "execute_result"
    }
   ],
   "source": [
    "df.isna().sum()"
   ]
  },
  {
   "cell_type": "markdown",
   "id": "80781a70",
   "metadata": {},
   "source": [
    "Now we will remove inconsistent records and handle missing values. We will replace NULL values in the **PURPOSE** feature with the **UNKNOWN** string. We will drop one record containing a NULL value in remaining feature."
   ]
  },
  {
   "cell_type": "code",
   "execution_count": 11,
   "id": "70bdaefe",
   "metadata": {},
   "outputs": [
    {
     "data": {
      "text/plain": [
       "START_DATE    0\n",
       "END_DATE      0\n",
       "CATEGORY      0\n",
       "START         0\n",
       "STOP          0\n",
       "MILES         0\n",
       "PURPOSE       0\n",
       "dtype: int64"
      ]
     },
     "execution_count": 11,
     "metadata": {},
     "output_type": "execute_result"
    }
   ],
   "source": [
    "# Filling NULL values in feature PURPOSE\n",
    "df['PURPOSE'] = df['PURPOSE'].fillna(\"UNKNOWN\")\n",
    "\n",
    "# After this imputation, we are left with 1 NULL value in features - \n",
    "#END_DATE, CATEGORY, START, and STOP. We can handle the NULL values by dropping that record\n",
    "\n",
    "df.dropna(inplace = True)\n",
    "\n",
    "df.isnull().sum()\n"
   ]
  },
  {
   "cell_type": "markdown",
   "id": "446607a1",
   "metadata": {},
   "source": [
    "# Data Preprocessing"
   ]
  },
  {
   "cell_type": "markdown",
   "id": "4edccb7b",
   "metadata": {},
   "source": [
    "Now,We will perform multiple preprocessing and feature engineering steps, as mentioned below -\n",
    "\n",
    "<li>START_DATE and END_DATE to be converted into datetime format.\n",
    "<li>Create a new feature representing the time of the day - morning, afternoon, evening, or night.\n",
    "<li>Create a new feature representing the day of the week, such as Monday, Sunday, etc.\n",
    "<li>Create a new feature representing the month of the ride, such as March, June, etc.\n",
    "<li>We will calculate the duration of the ride by subtracting end time and start time of the ride."
   ]
  },
  {
   "cell_type": "code",
   "execution_count": 13,
   "id": "0a337e2d",
   "metadata": {},
   "outputs": [],
   "source": [
    "# converting START_DATE and END_DATE into datetime format\n",
    "df['START_DATE'] = pd.to_datetime(df['START_DATE'])\n",
    "df['END_DATE'] = pd.to_datetime(df['END_DATE'])"
   ]
  },
  {
   "cell_type": "code",
   "execution_count": 14,
   "id": "65ae8ce0",
   "metadata": {},
   "outputs": [],
   "source": [
    "#create new feature representing time of the ride - morning, afternoon, evening, night\n",
    "df['TIME_DAY'] = df['START_DATE'].apply(lambda i : i.hour)\n",
    "df['TIME_OF_DAY'] = df['START_DATE'].apply(lambda i : i.hour)\n",
    "df['TIME_OF_DAY'] = pd.cut(x = df['TIME_OF_DAY'], bins = [0, 6, 11, 17, 21, 24],\\\n",
    "                             labels = ['Night', 'Morning','Afternoon','Evening','Night'], ordered = False)"
   ]
  },
  {
   "cell_type": "code",
   "execution_count": 15,
   "id": "0ab2003e",
   "metadata": {},
   "outputs": [],
   "source": [
    "#create new feature representing month of the ride\n",
    "df['MONTH_OF_THE_RIDE'] = df['START_DATE'].apply(lambda i : i.month)\n",
    "month_label = {1.0: 'Jan', 2.0: 'Feb', 3.0: 'Mar', 4.0: 'April', 5.0: 'May', 6.0: 'June', 7.0: 'July', 8.0: 'Aug', 9.0: 'Sep', 10.0: 'Oct', 11.0: 'Nov', 12.0: 'Dec'}\n",
    "df['MONTH_OF_THE_RIDE'] = df['MONTH_OF_THE_RIDE'].map(month_label)"
   ]
  },
  {
   "cell_type": "code",
   "execution_count": 16,
   "id": "b189ef77",
   "metadata": {},
   "outputs": [],
   "source": [
    "#create new feature representing day (week) of the ride\n",
    "df['DAY_OF_THE_RIDE'] = df['START_DATE'].apply(lambda i : i.weekday())\n",
    "day_label = {0: 'Mon', 1: 'Tues', 2: 'Wed', 3: 'Thus', 4: 'Fri', 5: 'Sat', 6: 'Sun'}\n",
    "\n",
    "df['DAY_OF_THE_RIDE'] = df['DAY_OF_THE_RIDE'].map(day_label)\n"
   ]
  },
  {
   "cell_type": "code",
   "execution_count": 17,
   "id": "bcca67f2",
   "metadata": {},
   "outputs": [
    {
     "data": {
      "text/html": [
       "<div>\n",
       "<style scoped>\n",
       "    .dataframe tbody tr th:only-of-type {\n",
       "        vertical-align: middle;\n",
       "    }\n",
       "\n",
       "    .dataframe tbody tr th {\n",
       "        vertical-align: top;\n",
       "    }\n",
       "\n",
       "    .dataframe thead th {\n",
       "        text-align: right;\n",
       "    }\n",
       "</style>\n",
       "<table border=\"1\" class=\"dataframe\">\n",
       "  <thead>\n",
       "    <tr style=\"text-align: right;\">\n",
       "      <th></th>\n",
       "      <th>START_DATE</th>\n",
       "      <th>END_DATE</th>\n",
       "      <th>CATEGORY</th>\n",
       "      <th>START</th>\n",
       "      <th>STOP</th>\n",
       "      <th>MILES</th>\n",
       "      <th>PURPOSE</th>\n",
       "      <th>TIME_DAY</th>\n",
       "      <th>TIME_OF_DAY</th>\n",
       "      <th>MONTH_OF_THE_RIDE</th>\n",
       "      <th>DAY_OF_THE_RIDE</th>\n",
       "      <th>DURATION_OF_THE_RIDE</th>\n",
       "    </tr>\n",
       "  </thead>\n",
       "  <tbody>\n",
       "    <tr>\n",
       "      <th>0</th>\n",
       "      <td>2016-01-01 21:11:00</td>\n",
       "      <td>2016-01-01 21:17:00</td>\n",
       "      <td>Business</td>\n",
       "      <td>Fort Pierce</td>\n",
       "      <td>Fort Pierce</td>\n",
       "      <td>5.1</td>\n",
       "      <td>Meal/Entertain</td>\n",
       "      <td>21</td>\n",
       "      <td>Evening</td>\n",
       "      <td>Jan</td>\n",
       "      <td>Fri</td>\n",
       "      <td>6.0</td>\n",
       "    </tr>\n",
       "    <tr>\n",
       "      <th>1</th>\n",
       "      <td>2016-01-02 01:25:00</td>\n",
       "      <td>2016-01-02 01:37:00</td>\n",
       "      <td>Business</td>\n",
       "      <td>Fort Pierce</td>\n",
       "      <td>Fort Pierce</td>\n",
       "      <td>5.0</td>\n",
       "      <td>UNKNOWN</td>\n",
       "      <td>1</td>\n",
       "      <td>Night</td>\n",
       "      <td>Jan</td>\n",
       "      <td>Sat</td>\n",
       "      <td>12.0</td>\n",
       "    </tr>\n",
       "    <tr>\n",
       "      <th>2</th>\n",
       "      <td>2016-01-02 20:25:00</td>\n",
       "      <td>2016-01-02 20:38:00</td>\n",
       "      <td>Business</td>\n",
       "      <td>Fort Pierce</td>\n",
       "      <td>Fort Pierce</td>\n",
       "      <td>4.8</td>\n",
       "      <td>Errand/Supplies</td>\n",
       "      <td>20</td>\n",
       "      <td>Evening</td>\n",
       "      <td>Jan</td>\n",
       "      <td>Sat</td>\n",
       "      <td>13.0</td>\n",
       "    </tr>\n",
       "    <tr>\n",
       "      <th>3</th>\n",
       "      <td>2016-01-05 17:31:00</td>\n",
       "      <td>2016-01-05 17:45:00</td>\n",
       "      <td>Business</td>\n",
       "      <td>Fort Pierce</td>\n",
       "      <td>Fort Pierce</td>\n",
       "      <td>4.7</td>\n",
       "      <td>Meeting</td>\n",
       "      <td>17</td>\n",
       "      <td>Afternoon</td>\n",
       "      <td>Jan</td>\n",
       "      <td>Tues</td>\n",
       "      <td>14.0</td>\n",
       "    </tr>\n",
       "    <tr>\n",
       "      <th>4</th>\n",
       "      <td>2016-01-06 14:42:00</td>\n",
       "      <td>2016-01-06 15:49:00</td>\n",
       "      <td>Business</td>\n",
       "      <td>Fort Pierce</td>\n",
       "      <td>West Palm Beach</td>\n",
       "      <td>63.7</td>\n",
       "      <td>Customer Visit</td>\n",
       "      <td>14</td>\n",
       "      <td>Afternoon</td>\n",
       "      <td>Jan</td>\n",
       "      <td>Wed</td>\n",
       "      <td>67.0</td>\n",
       "    </tr>\n",
       "  </tbody>\n",
       "</table>\n",
       "</div>"
      ],
      "text/plain": [
       "           START_DATE            END_DATE  CATEGORY        START  \\\n",
       "0 2016-01-01 21:11:00 2016-01-01 21:17:00  Business  Fort Pierce   \n",
       "1 2016-01-02 01:25:00 2016-01-02 01:37:00  Business  Fort Pierce   \n",
       "2 2016-01-02 20:25:00 2016-01-02 20:38:00  Business  Fort Pierce   \n",
       "3 2016-01-05 17:31:00 2016-01-05 17:45:00  Business  Fort Pierce   \n",
       "4 2016-01-06 14:42:00 2016-01-06 15:49:00  Business  Fort Pierce   \n",
       "\n",
       "              STOP  MILES          PURPOSE  TIME_DAY TIME_OF_DAY  \\\n",
       "0      Fort Pierce    5.1   Meal/Entertain        21     Evening   \n",
       "1      Fort Pierce    5.0          UNKNOWN         1       Night   \n",
       "2      Fort Pierce    4.8  Errand/Supplies        20     Evening   \n",
       "3      Fort Pierce    4.7          Meeting        17   Afternoon   \n",
       "4  West Palm Beach   63.7   Customer Visit        14   Afternoon   \n",
       "\n",
       "  MONTH_OF_THE_RIDE DAY_OF_THE_RIDE  DURATION_OF_THE_RIDE  \n",
       "0               Jan             Fri                   6.0  \n",
       "1               Jan             Sat                  12.0  \n",
       "2               Jan             Sat                  13.0  \n",
       "3               Jan            Tues                  14.0  \n",
       "4               Jan             Wed                  67.0  "
      ]
     },
     "execution_count": 17,
     "metadata": {},
     "output_type": "execute_result"
    }
   ],
   "source": [
    "# duration of the ride\n",
    "df['DURATION_OF_THE_RIDE'] = (df['END_DATE'] - df['START_DATE']).astype('timedelta64[m]')\n",
    "\n",
    "df.head()\n"
   ]
  },
  {
   "cell_type": "markdown",
   "id": "94210c08",
   "metadata": {},
   "source": [
    "# Data Exploration\n",
    "<br>\n",
    "<li>Let’s explore summary statistics of the numerical features present in the dataset. As we can see below, the mean miles of a ride are 10.56, and the mean duration of a ride is 23 minutes. The maximum number of miles of a ride is 310, and the max duration of a ride is 336 minutes."
   ]
  },
  {
   "cell_type": "code",
   "execution_count": 18,
   "id": "b007d9e5",
   "metadata": {},
   "outputs": [
    {
     "data": {
      "text/html": [
       "<div>\n",
       "<style scoped>\n",
       "    .dataframe tbody tr th:only-of-type {\n",
       "        vertical-align: middle;\n",
       "    }\n",
       "\n",
       "    .dataframe tbody tr th {\n",
       "        vertical-align: top;\n",
       "    }\n",
       "\n",
       "    .dataframe thead th {\n",
       "        text-align: right;\n",
       "    }\n",
       "</style>\n",
       "<table border=\"1\" class=\"dataframe\">\n",
       "  <thead>\n",
       "    <tr style=\"text-align: right;\">\n",
       "      <th></th>\n",
       "      <th>MILES</th>\n",
       "      <th>TIME_DAY</th>\n",
       "      <th>DURATION_OF_THE_RIDE</th>\n",
       "    </tr>\n",
       "  </thead>\n",
       "  <tbody>\n",
       "    <tr>\n",
       "      <th>count</th>\n",
       "      <td>1155.000000</td>\n",
       "      <td>1155.000000</td>\n",
       "      <td>1155.000000</td>\n",
       "    </tr>\n",
       "    <tr>\n",
       "      <th>mean</th>\n",
       "      <td>10.566840</td>\n",
       "      <td>14.696104</td>\n",
       "      <td>23.243290</td>\n",
       "    </tr>\n",
       "    <tr>\n",
       "      <th>std</th>\n",
       "      <td>21.579106</td>\n",
       "      <td>4.575226</td>\n",
       "      <td>27.318277</td>\n",
       "    </tr>\n",
       "    <tr>\n",
       "      <th>min</th>\n",
       "      <td>0.500000</td>\n",
       "      <td>0.000000</td>\n",
       "      <td>0.000000</td>\n",
       "    </tr>\n",
       "    <tr>\n",
       "      <th>25%</th>\n",
       "      <td>2.900000</td>\n",
       "      <td>12.000000</td>\n",
       "      <td>10.000000</td>\n",
       "    </tr>\n",
       "    <tr>\n",
       "      <th>50%</th>\n",
       "      <td>6.000000</td>\n",
       "      <td>15.000000</td>\n",
       "      <td>16.000000</td>\n",
       "    </tr>\n",
       "    <tr>\n",
       "      <th>75%</th>\n",
       "      <td>10.400000</td>\n",
       "      <td>18.000000</td>\n",
       "      <td>27.500000</td>\n",
       "    </tr>\n",
       "    <tr>\n",
       "      <th>max</th>\n",
       "      <td>310.300000</td>\n",
       "      <td>23.000000</td>\n",
       "      <td>336.000000</td>\n",
       "    </tr>\n",
       "  </tbody>\n",
       "</table>\n",
       "</div>"
      ],
      "text/plain": [
       "             MILES     TIME_DAY  DURATION_OF_THE_RIDE\n",
       "count  1155.000000  1155.000000           1155.000000\n",
       "mean     10.566840    14.696104             23.243290\n",
       "std      21.579106     4.575226             27.318277\n",
       "min       0.500000     0.000000              0.000000\n",
       "25%       2.900000    12.000000             10.000000\n",
       "50%       6.000000    15.000000             16.000000\n",
       "75%      10.400000    18.000000             27.500000\n",
       "max     310.300000    23.000000            336.000000"
      ]
     },
     "execution_count": 18,
     "metadata": {},
     "output_type": "execute_result"
    }
   ],
   "source": [
    "# summary statistics of the dataset\n",
    "df.describe()"
   ]
  },
  {
   "cell_type": "markdown",
   "id": "0eb48f67",
   "metadata": {},
   "source": [
    "<li>Let’s explore the minimum and max value of the START_DATE feature. As we can see below, this dataset contains rides for the entire year 2016."
   ]
  },
  {
   "cell_type": "code",
   "execution_count": 20,
   "id": "07a79915",
   "metadata": {},
   "outputs": [
    {
     "name": "stdout",
     "output_type": "stream",
     "text": [
      "Min Timestamp in START_TIME is - 2016-01-01 21:11:00\n",
      "Max Timestamp in START_TIME is - 2016-12-31 22:08:00\n"
     ]
    }
   ],
   "source": [
    "print('Min Timestamp in START_TIME is - {}'.format(df['START_DATE'].min()))\n",
    "print('Max Timestamp in START_TIME is - {}'.format(df['START_DATE'].max()))\n"
   ]
  },
  {
   "cell_type": "markdown",
   "id": "adcb24d0",
   "metadata": {},
   "source": [
    "<li> There are four categorical features in the dataset - CATEGORY, START, STOP, and PURPOSE. Let’s explore the count of unique categories in each feature."
   ]
  },
  {
   "cell_type": "code",
   "execution_count": 21,
   "id": "9f56c22d",
   "metadata": {},
   "outputs": [
    {
     "name": "stdout",
     "output_type": "stream",
     "text": [
      "Total number of unique categories in CATEGORY - 2\n",
      "Total number of unique categories in PURPOSE - 11\n",
      "Total number of unique location in START - 177\n",
      "Total number of unique location in STOP - 188\n"
     ]
    }
   ],
   "source": [
    "print(\"Total number of unique categories in CATEGORY - {}\".format(df['CATEGORY'].nunique()))\n",
    "print(\"Total number of unique categories in PURPOSE - {}\".format(df['PURPOSE'].nunique()))\n",
    "print(\"Total number of unique location in START - {}\".format(df['START'].nunique()))\n",
    "print(\"Total number of unique location in STOP - {}\".format(df['STOP'].nunique()))\n"
   ]
  },
  {
   "cell_type": "markdown",
   "id": "57f9a985",
   "metadata": {},
   "source": [
    "# Data Visualization<br>\n",
    "\n",
    "<li>Now, we will explore the data by using various visualization techniques. \n",
    "    <li>First, let’s explore the distribution of categories in CATEGORY and PURPOSE features and the top 10 locations for START and STOP."
   ]
  },
  {
   "cell_type": "code",
   "execution_count": 22,
   "id": "333a1fe7",
   "metadata": {},
   "outputs": [
    {
     "name": "stderr",
     "output_type": "stream",
     "text": [
      "F:\\Anaconda\\lib\\site-packages\\seaborn\\_decorators.py:36: FutureWarning: Pass the following variable as a keyword arg: x. From version 0.12, the only valid positional argument will be `data`, and passing other arguments without an explicit keyword will result in an error or misinterpretation.\n",
      "  warnings.warn(\n",
      "F:\\Anaconda\\lib\\site-packages\\seaborn\\_decorators.py:36: FutureWarning: Pass the following variable as a keyword arg: x. From version 0.12, the only valid positional argument will be `data`, and passing other arguments without an explicit keyword will result in an error or misinterpretation.\n",
      "  warnings.warn(\n"
     ]
    },
    {
     "data": {
      "image/png": "[encoded data removed]",
      "text/plain": [
       "<Figure size 1296x1296 with 4 Axes>"
      ]
     },
     "metadata": {
      "needs_background": "light"
     },
     "output_type": "display_data"
    }
   ],
   "source": [
    "fig, axes = plt.subplots(2, 2, figsize = (18,18))\n",
    "\n",
    "# label distribution for CATEGORY\n",
    "sns.countplot(df['CATEGORY'], ax = axes[0,0])\n",
    "axes[0, 0].set_title('Distribution of Categories in CATEGORY')\n",
    "\n",
    "# label distribution for PURPOSE\n",
    "sns.countplot(df['PURPOSE'], ax = axes[1,0])\n",
    "axes[1, 0].set_title('Distribution of Categories in PURPOSE')\n",
    "axes[1, 0].tick_params(axis='x', rotation = 90)\n",
    "\n",
    "# top 10 locations for START and STOP\n",
    "temp = pd.DataFrame(df.groupby('START').size()).nlargest(10, columns = 0).reset_index(drop = False)\n",
    "sns.barplot(x = 'START', y = 0, data = temp, ax = axes[0,1])\n",
    "axes[0, 1].set_title('Top 10 START Locations')\n",
    "axes[0, 1].tick_params(axis='x', rotation = 90)\n",
    "\n",
    "temp = pd.DataFrame(df.groupby('STOP').size()).nlargest(10, columns = 0).reset_index(drop = False)\n",
    "sns.barplot(x = 'STOP', y = 0, data = temp, ax = axes[1,1])\n",
    "axes[1, 1].set_title('Top 10 STOP Locations')\n",
    "axes[1, 1].tick_params(axis='x', rotation = 90)"
   ]
  },
  {
   "cell_type": "code",
   "execution_count": 23,
   "id": "6773647b",
   "metadata": {},
   "outputs": [
    {
     "name": "stderr",
     "output_type": "stream",
     "text": [
      "F:\\Anaconda\\lib\\site-packages\\seaborn\\_decorators.py:36: FutureWarning: Pass the following variable as a keyword arg: x. From version 0.12, the only valid positional argument will be `data`, and passing other arguments without an explicit keyword will result in an error or misinterpretation.\n",
      "  warnings.warn(\n"
     ]
    },
    {
     "data": {
      "text/plain": [
       "<AxesSubplot:xlabel='TIME_OF_DAY', ylabel='count'>"
      ]
     },
     "execution_count": 23,
     "metadata": {},
     "output_type": "execute_result"
    },
    {
     "data": {
      "image/png": "[encoded data removed]",
      "text/plain": [
       "<Figure size 720x432 with 1 Axes>"
      ]
     },
     "metadata": {
      "needs_background": "light"
     },
     "output_type": "display_data"
    }
   ],
   "source": [
    "# distribution of rides based on time of the day\n",
    "plt.figure(figsize = (10,6))\n",
    "sns.countplot(df['TIME_OF_DAY'])"
   ]
  },
  {
   "cell_type": "code",
   "execution_count": 25,
   "id": "c601edc1",
   "metadata": {},
   "outputs": [
    {
     "name": "stderr",
     "output_type": "stream",
     "text": [
      "F:\\Anaconda\\lib\\site-packages\\seaborn\\_decorators.py:36: FutureWarning: Pass the following variable as a keyword arg: x. From version 0.12, the only valid positional argument will be `data`, and passing other arguments without an explicit keyword will result in an error or misinterpretation.\n",
      "  warnings.warn(\n"
     ]
    },
    {
     "data": {
      "text/plain": [
       "<AxesSubplot:xlabel='MONTH_OF_THE_RIDE', ylabel='count'>"
      ]
     },
     "execution_count": 25,
     "metadata": {},
     "output_type": "execute_result"
    },
    {
     "data": {
      "image/png": "[encoded data removed]",
      "text/plain": [
       "<Figure size 720x432 with 1 Axes>"
      ]
     },
     "metadata": {
      "needs_background": "light"
     },
     "output_type": "display_data"
    }
   ],
   "source": [
    "# distribution of rides based on month of the day\n",
    "plt.figure(figsize = (10,6))\n",
    "sns.countplot(df['MONTH_OF_THE_RIDE'])\n"
   ]
  },
  {
   "cell_type": "code",
   "execution_count": 28,
   "id": "6df3706b",
   "metadata": {},
   "outputs": [
    {
     "data": {
      "text/plain": [
       "Index(['START_DATE', 'END_DATE', 'CATEGORY', 'START', 'STOP', 'MILES',\n",
       "       'PURPOSE', 'TIME_DAY', 'TIME_OF_DAY', 'MONTH_OF_THE_RIDE',\n",
       "       'DAY_OF_THE_RIDE', 'DURATION_OF_THE_RIDE'],\n",
       "      dtype='object')"
      ]
     },
     "execution_count": 28,
     "metadata": {},
     "output_type": "execute_result"
    }
   ],
   "source": [
    "df.columns"
   ]
  },
  {
   "cell_type": "code",
   "execution_count": 32,
   "id": "3cd729c7",
   "metadata": {},
   "outputs": [
    {
     "data": {
      "text/plain": [
       "<AxesSubplot:xlabel='MONTH_OF_THE_RIDE', ylabel='DURATION_OF_THE_RIDE'>"
      ]
     },
     "execution_count": 32,
     "metadata": {},
     "output_type": "execute_result"
    },
    {
     "data": {
      "image/png": "[encoded data removed]",
      "text/plain": [
       "<Figure size 864x432 with 1 Axes>"
      ]
     },
     "metadata": {
      "needs_background": "light"
     },
     "output_type": "display_data"
    }
   ],
   "source": [
    "plt.figure(figsize = (12,6))\n",
    "temp = df.groupby('MONTH_OF_THE_RIDE')['DURATION_OF_THE_RIDE'].mean().reset_index()\n",
    "sns.barplot(x = 'MONTH_OF_THE_RIDE', y = 'DURATION_OF_THE_RIDE', data = temp)"
   ]
  },
  {
   "cell_type": "code",
   "execution_count": null,
   "id": "adb5a0e7",
   "metadata": {},
   "outputs": [],
   "source": []
  }
 ],
 "metadata": {
  "kernelspec": {
   "display_name": "Python 3",
   "language": "python",
   "name": "python3"
  },
  "language_info": {
   "codemirror_mode": {
    "name": "ipython",
    "version": 3
   },
   "file_extension": ".py",
   "mimetype": "text/x-python",
   "name": "python",
   "nbconvert_exporter": "python",
   "pygments_lexer": "ipython3",
   "version": "3.8.8"
  }
 },
 "nbformat": 4,
 "nbformat_minor": 5
}
